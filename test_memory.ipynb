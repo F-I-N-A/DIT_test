{
 "cells": [
  {
   "cell_type": "code",
   "execution_count": 1,
   "id": "dcaa06a8",
   "metadata": {},
   "outputs": [],
   "source": [
    "# Импортируем библиотеку\n",
    "import pandas as pd"
   ]
  },
  {
   "cell_type": "code",
   "execution_count": 2,
   "id": "0ae6a522",
   "metadata": {},
   "outputs": [],
   "source": [
    "# Загружаем данные в датафрейм\n",
    "reader = pd.read_csv('data_for_test_task.csv', sep=';', chunksize=2000)"
   ]
  },
  {
   "cell_type": "code",
   "execution_count": 3,
   "id": "fa023962",
   "metadata": {},
   "outputs": [],
   "source": [
    "for data in reader:\n",
    "\n",
    "    data['CAT'] = data['COL'].map({'вид_вакцинации':'вакцинация', \n",
    "                               'вид_вакцинации_код':'вакцинация',\n",
    "                               'дата_запрета':'запрет',\n",
    "                               'медицинский_запрет_на_вакцинацию':'запрет',\n",
    "                               'отказ_от_вакцинации':'отказ',\n",
    "                               'подробности_вакцинации_дата':'вакцинация',\n",
    "                               'подробности_вакцинации_кратность':'вакцинация',\n",
    "                               'результат_иммунодиагностики_дата':'тубпроба',\n",
    "                               'результат_иммунодиагностики_результат':'тубпроба',\n",
    "                               'результат_иммунодиагностики_дата':'тубпроба',\n",
    "                              })\n",
    "\n",
    "    df = data.pivot(index=['DOCUMENT_ID', 'LINE_ID', 'CAT'], columns='COL', values='VAL')\n",
    "    df = df.reset_index()\n",
    "\n",
    "    df1 = df[['DOCUMENT_ID', 'ид_пациента']]\n",
    "    df1 = df1.dropna()\n",
    "\n",
    "    df = df.drop(columns='ид_пациента')\n",
    "    df = df.merge(df1, how='inner', on='DOCUMENT_ID')\n",
    "    df.to_csv('df.csv', mode='a', index=False, header=False, sep=';')"
   ]
  }
 ],
 "metadata": {
  "kernelspec": {
   "display_name": "Python 3",
   "language": "python",
   "name": "python3"
  },
  "language_info": {
   "codemirror_mode": {
    "name": "ipython",
    "version": 3
   },
   "file_extension": ".py",
   "mimetype": "text/x-python",
   "name": "python",
   "nbconvert_exporter": "python",
   "pygments_lexer": "ipython3",
   "version": "3.8.8"
  }
 },
 "nbformat": 4,
 "nbformat_minor": 5
}
